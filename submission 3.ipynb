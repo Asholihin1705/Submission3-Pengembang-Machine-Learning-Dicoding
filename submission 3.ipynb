{
  "nbformat": 4,
  "nbformat_minor": 0,
  "metadata": {
    "colab": {
      "name": "Untitled4.ipynb",
      "provenance": []
    },
    "kernelspec": {
      "name": "python3",
      "display_name": "Python 3"
    },
    "language_info": {
      "name": "python"
    }
  },
  "cells": [
    {
      "cell_type": "markdown",
      "metadata": {
        "id": "hEalHzAZPZ6F"
      },
      "source": [
        "Nama : Ahmad Sholihin\n",
        "\n",
        "Email : asholeeqeen41@gmail.com"
      ]
    },
    {
      "cell_type": "code",
      "metadata": {
        "id": "qGnILWkYotEz"
      },
      "source": [
        "!pip install -U -q kaggle\n",
        "!mkdir -p ~/.kaggle"
      ],
      "execution_count": 1,
      "outputs": []
    },
    {
      "cell_type": "code",
      "metadata": {
        "colab": {
          "resources": {
            "http://localhost:8080/nbextensions/google.colab/files.js": {
              "data": "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",
              "ok": true,
              "headers": [
                [
                  "content-type",
                  "application/javascript"
                ]
              ],
              "status": 200,
              "status_text": ""
            }
          },
          "base_uri": "https://localhost:8080/",
          "height": 90
        },
        "id": "SRmpS51dp0Ef",
        "outputId": "d7b3539a-5035-4312-b00d-dca41a5625eb"
      },
      "source": [
        "from google.colab import files\n",
        "files.upload()"
      ],
      "execution_count": 4,
      "outputs": [
        {
          "output_type": "display_data",
          "data": {
            "text/html": [
              "\n",
              "     <input type=\"file\" id=\"files-d88b9182-77bf-4537-82be-09b7bf520655\" name=\"files[]\" multiple disabled\n",
              "        style=\"border:none\" />\n",
              "     <output id=\"result-d88b9182-77bf-4537-82be-09b7bf520655\">\n",
              "      Upload widget is only available when the cell has been executed in the\n",
              "      current browser session. Please rerun this cell to enable.\n",
              "      </output>\n",
              "      <script src=\"/nbextensions/google.colab/files.js\"></script> "
            ],
            "text/plain": [
              "<IPython.core.display.HTML object>"
            ]
          },
          "metadata": {
            "tags": []
          }
        },
        {
          "output_type": "stream",
          "text": [
            "Saving kaggle.json to kaggle.json\n"
          ],
          "name": "stdout"
        },
        {
          "output_type": "execute_result",
          "data": {
            "text/plain": [
              "{'kaggle.json': b'{\"username\":\"ahmadsholihin\",\"key\":\"116ae1296508ab7ce5ccbff7971d5049\"}'}"
            ]
          },
          "metadata": {
            "tags": []
          },
          "execution_count": 4
        }
      ]
    },
    {
      "cell_type": "code",
      "metadata": {
        "id": "kvcnFkFutYEZ"
      },
      "source": [
        "!cp kaggle.json ~/.kaggle/"
      ],
      "execution_count": 5,
      "outputs": []
    },
    {
      "cell_type": "code",
      "metadata": {
        "colab": {
          "base_uri": "https://localhost:8080/"
        },
        "id": "VZJfD1EXtbkg",
        "outputId": "93e91b2c-77b3-467e-c1de-4c9c5ad2651c"
      },
      "source": [
        "!kaggle datasets download -d jonathanoheix/face-expression-recognition-dataset\n",
        "!ls"
      ],
      "execution_count": 6,
      "outputs": [
        {
          "output_type": "stream",
          "text": [
            "Warning: Your Kaggle API key is readable by other users on this system! To fix this, you can run 'chmod 600 /root/.kaggle/kaggle.json'\n",
            "Downloading face-expression-recognition-dataset.zip to /content\n",
            " 94% 113M/121M [00:04<00:00, 25.4MB/s]\n",
            "100% 121M/121M [00:04<00:00, 27.0MB/s]\n",
            "'archive (1).zip'\t\t\t   kaggle.json\n",
            " face-expression-recognition-dataset.zip   sample_data\n"
          ],
          "name": "stdout"
        }
      ]
    },
    {
      "cell_type": "code",
      "metadata": {
        "id": "cChbYwiKtnIL"
      },
      "source": [
        "#Import Library\n",
        "import zipfile\n",
        "import os\n",
        "import shutil\n",
        "from sklearn.model_selection import train_test_split \n",
        "from keras.preprocessing.image import ImageDataGenerator\n",
        "import tensorflow as tf\n",
        "import numpy as np\n",
        "from google.colab import files\n",
        "from keras.preprocessing import image\n",
        "import matplotlib.pyplot as plt\n",
        "import matplotlib.image as mpimg\n",
        "from keras.models import Model,Sequential\n",
        "from keras.optimizers import Adam"
      ],
      "execution_count": 7,
      "outputs": []
    },
    {
      "cell_type": "code",
      "metadata": {
        "id": "w90XEXIXtt8l"
      },
      "source": [
        "# Ekstraksi pada file zip sebelumnya\n",
        "local_zip = '/content/face-expression-recognition-dataset.zip'\n",
        "zip_ref = zipfile.ZipFile(local_zip, 'r')\n",
        "zip_ref.extractall('/content')\n",
        "zip_ref.close()"
      ],
      "execution_count": 9,
      "outputs": []
    },
    {
      "cell_type": "code",
      "metadata": {
        "id": "CBTA68iMxoKc"
      },
      "source": [
        "#Delete beberapa folder train yang tidak dibutuhkan\n",
        "!rm -rf '/content/images/train/angry'\n",
        "!rm -rf '/content/images/train/neutral'\n",
        "!rm -rf '/content/images/train/disgust'\n",
        "!rm -rf '/content/images/train/fear'\n",
        "!rm -rf '/content/images/train/surprise'\n",
        "\n",
        "#Delete beberapa folder validation yang tidak dibutuhkan\n",
        "!rm -rf '/content/images/validation/angry'\n",
        "!rm -rf '/content/images/validation/neutral'\n",
        "!rm -rf '/content/images/validation/disgust'\n",
        "!rm -rf '/content/images/validation/fear'\n",
        "!rm -rf '/content/images/validation/surprise'"
      ],
      "execution_count": 18,
      "outputs": []
    },
    {
      "cell_type": "code",
      "metadata": {
        "id": "sgStwFnZt5Qy"
      },
      "source": [
        "train_folder = '/content/images/train'\n",
        "validation_folder = '/content/images/validation'"
      ],
      "execution_count": 19,
      "outputs": []
    },
    {
      "cell_type": "code",
      "metadata": {
        "id": "PwvJNkMFt_Mj"
      },
      "source": [
        "#Augmentasi dan generate gambar\n",
        "train_datagen = ImageDataGenerator(rescale=1./255,\n",
        "                    rotation_range=20,\n",
        "                    horizontal_flip=True,\n",
        "                    shear_range = 0.2,\n",
        "                    fill_mode = 'nearest')\n",
        " \n",
        "test_datagen = ImageDataGenerator(\n",
        "                    rescale=1./255,\n",
        "                    rotation_range=20,\n",
        "                    horizontal_flip=True,\n",
        "                    shear_range = 0.2,\n",
        "                    fill_mode = 'nearest')"
      ],
      "execution_count": 20,
      "outputs": []
    },
    {
      "cell_type": "code",
      "metadata": {
        "colab": {
          "base_uri": "https://localhost:8080/"
        },
        "id": "GdFI3lt-uFGB",
        "outputId": "e7c0b40b-744f-4fbf-fa84-52edbdc6161d"
      },
      "source": [
        "#Preprocessing data with generator\n",
        "train_generator = train_datagen.flow_from_directory(\n",
        "        train_folder,  \n",
        "        target_size=(48, 48), \n",
        "        batch_size=8,\n",
        "        class_mode='binary')\n",
        "validation_generator = test_datagen.flow_from_directory(\n",
        "        validation_folder, \n",
        "        target_size=(48, 48),  \n",
        "        batch_size=8, \n",
        "        class_mode='binary')"
      ],
      "execution_count": 21,
      "outputs": [
        {
          "output_type": "stream",
          "text": [
            "Found 12102 images belonging to 2 classes.\n",
            "Found 2964 images belonging to 2 classes.\n"
          ],
          "name": "stdout"
        }
      ]
    },
    {
      "cell_type": "code",
      "metadata": {
        "id": "5iFHn_LquVuF"
      },
      "source": [
        "#CNN Architecture Model sequentials (Maxpooling and convolutional layer), flatten to make single array\n",
        "from keras.layers import Dense, Input, Dropout, Flatten, Conv2D, Activation, MaxPooling2D\n",
        "from keras.models import Model, Sequential\n",
        "from keras.optimizers import Adam\n",
        "\n",
        "# Sequential Model\n",
        "model = Sequential()\n",
        "\n",
        "# Conv 1\n",
        "model.add(Conv2D(64,(3,3), input_shape=(48, 48,3)))\n",
        "model.add(Activation('relu'))\n",
        "model.add(MaxPooling2D(pool_size=(2, 2)))\n",
        "\n",
        "# Conv 2\n",
        "model.add(Conv2D(128,(3,3)))\n",
        "model.add(Activation('relu'))\n",
        "model.add(MaxPooling2D(pool_size=(2, 2)))\n",
        "\n",
        "# Conv 3\n",
        "model.add(Conv2D(256,(3,3)))\n",
        "model.add(Activation('relu'))\n",
        "model.add(MaxPooling2D(pool_size=(2, 2)))\n",
        "\n",
        "# Conv 4\n",
        "model.add(Conv2D(512,(3,3)))\n",
        "model.add(Activation('relu'))\n",
        "model.add(MaxPooling2D(pool_size=(2, 2)))\n",
        "\n",
        "# Flattening\n",
        "model.add(Flatten())\n",
        "\n",
        "# Fully connected layer 1\n",
        "model.add(Dense(1024))\n",
        "model.add(Activation('relu'))\n",
        "\n",
        "# Fully connected layer 2\n",
        "model.add(Dense(1024))\n",
        "model.add(Activation('relu'))\n",
        "\n",
        "model.add(Dense(1, activation='sigmoid'))\n",
        "\n",
        "opt = Adam(learning_rate=0.0001)\n",
        "model.compile(optimizer=opt, loss='binary_crossentropy', metrics=['accuracy'])"
      ],
      "execution_count": 22,
      "outputs": []
    },
    {
      "cell_type": "code",
      "metadata": {
        "id": "Qj2yveubukkv"
      },
      "source": [
        "#Callback untuk mencegah overfitting dengan menghentikan training, apabila telah terpenuhi\n",
        "class reduceOverfitting(tf.keras.callbacks.Callback):\n",
        "  def on_epoch_end(self, epoch, logs={}):\n",
        "    if(logs.get('accuracy') > 0.93 and logs.get('val_accuracy') > 0.93 ):\n",
        "      print(\"\\nStopped! Akurasi training dan validasi sudah mencapai 93% dan 93%\")\n",
        "      self.model.stop_training = True\n",
        "stop = reduceOverfitting()"
      ],
      "execution_count": 23,
      "outputs": []
    },
    {
      "cell_type": "code",
      "metadata": {
        "colab": {
          "base_uri": "https://localhost:8080/"
        },
        "id": "L3JsryaZuojL",
        "outputId": "0aa3891d-ec5e-4d45-f9d0-052b8e6cf5e9"
      },
      "source": [
        "model.summary()"
      ],
      "execution_count": 24,
      "outputs": [
        {
          "output_type": "stream",
          "text": [
            "Model: \"sequential_2\"\n",
            "_________________________________________________________________\n",
            "Layer (type)                 Output Shape              Param #   \n",
            "=================================================================\n",
            "conv2d_8 (Conv2D)            (None, 46, 46, 64)        1792      \n",
            "_________________________________________________________________\n",
            "activation_12 (Activation)   (None, 46, 46, 64)        0         \n",
            "_________________________________________________________________\n",
            "max_pooling2d_8 (MaxPooling2 (None, 23, 23, 64)        0         \n",
            "_________________________________________________________________\n",
            "conv2d_9 (Conv2D)            (None, 21, 21, 128)       73856     \n",
            "_________________________________________________________________\n",
            "activation_13 (Activation)   (None, 21, 21, 128)       0         \n",
            "_________________________________________________________________\n",
            "max_pooling2d_9 (MaxPooling2 (None, 10, 10, 128)       0         \n",
            "_________________________________________________________________\n",
            "conv2d_10 (Conv2D)           (None, 8, 8, 256)         295168    \n",
            "_________________________________________________________________\n",
            "activation_14 (Activation)   (None, 8, 8, 256)         0         \n",
            "_________________________________________________________________\n",
            "max_pooling2d_10 (MaxPooling (None, 4, 4, 256)         0         \n",
            "_________________________________________________________________\n",
            "conv2d_11 (Conv2D)           (None, 2, 2, 512)         1180160   \n",
            "_________________________________________________________________\n",
            "activation_15 (Activation)   (None, 2, 2, 512)         0         \n",
            "_________________________________________________________________\n",
            "max_pooling2d_11 (MaxPooling (None, 1, 1, 512)         0         \n",
            "_________________________________________________________________\n",
            "flatten_2 (Flatten)          (None, 512)               0         \n",
            "_________________________________________________________________\n",
            "dense_6 (Dense)              (None, 1024)              525312    \n",
            "_________________________________________________________________\n",
            "activation_16 (Activation)   (None, 1024)              0         \n",
            "_________________________________________________________________\n",
            "dense_7 (Dense)              (None, 1024)              1049600   \n",
            "_________________________________________________________________\n",
            "activation_17 (Activation)   (None, 1024)              0         \n",
            "_________________________________________________________________\n",
            "dense_8 (Dense)              (None, 1)                 1025      \n",
            "=================================================================\n",
            "Total params: 3,126,913\n",
            "Trainable params: 3,126,913\n",
            "Non-trainable params: 0\n",
            "_________________________________________________________________\n"
          ],
          "name": "stdout"
        }
      ]
    },
    {
      "cell_type": "code",
      "metadata": {
        "colab": {
          "base_uri": "https://localhost:8080/"
        },
        "id": "G0TkILI6uv-F",
        "outputId": "5cc67819-70d6-4a6f-e126-ffeb31a8e422"
      },
      "source": [
        "trainmodel = model.fit(\n",
        "    train_generator,\n",
        "    steps_per_epoch = train_generator.n//train_generator.batch_size, \n",
        "    epochs = 30,\n",
        "    validation_data = validation_generator,\n",
        "    validation_steps = validation_generator.n//validation_generator.batch_size,\n",
        "    verbose =2,       \n",
        "      callbacks=[stop] \n",
        ")"
      ],
      "execution_count": 25,
      "outputs": [
        {
          "output_type": "stream",
          "text": [
            "Epoch 1/30\n",
            "1512/1512 - 242s - loss: 0.6544 - accuracy: 0.6178 - val_loss: 0.5621 - val_accuracy: 0.7345\n",
            "Epoch 2/30\n",
            "1512/1512 - 240s - loss: 0.4813 - accuracy: 0.7638 - val_loss: 0.4158 - val_accuracy: 0.8105\n",
            "Epoch 3/30\n",
            "1512/1512 - 242s - loss: 0.3988 - accuracy: 0.8155 - val_loss: 0.3488 - val_accuracy: 0.8419\n",
            "Epoch 4/30\n",
            "1512/1512 - 243s - loss: 0.3500 - accuracy: 0.8403 - val_loss: 0.3469 - val_accuracy: 0.8361\n",
            "Epoch 5/30\n",
            "1512/1512 - 244s - loss: 0.3249 - accuracy: 0.8544 - val_loss: 0.3188 - val_accuracy: 0.8547\n",
            "Epoch 6/30\n",
            "1512/1512 - 243s - loss: 0.2983 - accuracy: 0.8688 - val_loss: 0.3121 - val_accuracy: 0.8622\n",
            "Epoch 7/30\n",
            "1512/1512 - 242s - loss: 0.2819 - accuracy: 0.8776 - val_loss: 0.2743 - val_accuracy: 0.8770\n",
            "Epoch 8/30\n",
            "1512/1512 - 243s - loss: 0.2697 - accuracy: 0.8832 - val_loss: 0.3049 - val_accuracy: 0.8736\n",
            "Epoch 9/30\n",
            "1512/1512 - 246s - loss: 0.2528 - accuracy: 0.8933 - val_loss: 0.2762 - val_accuracy: 0.8804\n",
            "Epoch 10/30\n",
            "1512/1512 - 244s - loss: 0.2395 - accuracy: 0.8976 - val_loss: 0.2868 - val_accuracy: 0.8848\n",
            "Epoch 11/30\n",
            "1512/1512 - 242s - loss: 0.2296 - accuracy: 0.9048 - val_loss: 0.2570 - val_accuracy: 0.8929\n",
            "Epoch 12/30\n",
            "1512/1512 - 242s - loss: 0.2195 - accuracy: 0.9081 - val_loss: 0.2683 - val_accuracy: 0.8899\n",
            "Epoch 13/30\n",
            "1512/1512 - 240s - loss: 0.2105 - accuracy: 0.9129 - val_loss: 0.2827 - val_accuracy: 0.8868\n",
            "Epoch 14/30\n",
            "1512/1512 - 240s - loss: 0.1983 - accuracy: 0.9182 - val_loss: 0.2608 - val_accuracy: 0.8909\n",
            "Epoch 15/30\n",
            "1512/1512 - 240s - loss: 0.1874 - accuracy: 0.9212 - val_loss: 0.2841 - val_accuracy: 0.8882\n",
            "Epoch 16/30\n",
            "1512/1512 - 242s - loss: 0.1832 - accuracy: 0.9247 - val_loss: 0.2639 - val_accuracy: 0.8916\n",
            "Epoch 17/30\n",
            "1512/1512 - 244s - loss: 0.1741 - accuracy: 0.9296 - val_loss: 0.2807 - val_accuracy: 0.8946\n",
            "Epoch 18/30\n",
            "1512/1512 - 241s - loss: 0.1689 - accuracy: 0.9321 - val_loss: 0.2668 - val_accuracy: 0.9003\n",
            "Epoch 19/30\n",
            "1512/1512 - 239s - loss: 0.1594 - accuracy: 0.9372 - val_loss: 0.2899 - val_accuracy: 0.8926\n",
            "Epoch 20/30\n",
            "1512/1512 - 241s - loss: 0.1528 - accuracy: 0.9407 - val_loss: 0.2739 - val_accuracy: 0.8983\n",
            "Epoch 21/30\n",
            "1512/1512 - 242s - loss: 0.1527 - accuracy: 0.9389 - val_loss: 0.2675 - val_accuracy: 0.9020\n",
            "Epoch 22/30\n",
            "1512/1512 - 241s - loss: 0.1452 - accuracy: 0.9449 - val_loss: 0.2632 - val_accuracy: 0.9020\n",
            "Epoch 23/30\n",
            "1512/1512 - 243s - loss: 0.1411 - accuracy: 0.9463 - val_loss: 0.2752 - val_accuracy: 0.9034\n",
            "Epoch 24/30\n",
            "1512/1512 - 244s - loss: 0.1353 - accuracy: 0.9468 - val_loss: 0.2852 - val_accuracy: 0.8926\n",
            "Epoch 25/30\n",
            "1512/1512 - 240s - loss: 0.1261 - accuracy: 0.9503 - val_loss: 0.3180 - val_accuracy: 0.8912\n",
            "Epoch 26/30\n",
            "1512/1512 - 238s - loss: 0.1156 - accuracy: 0.9543 - val_loss: 0.2865 - val_accuracy: 0.8993\n",
            "Epoch 27/30\n",
            "1512/1512 - 238s - loss: 0.1179 - accuracy: 0.9552 - val_loss: 0.3609 - val_accuracy: 0.8946\n",
            "Epoch 28/30\n",
            "1512/1512 - 235s - loss: 0.1153 - accuracy: 0.9582 - val_loss: 0.3267 - val_accuracy: 0.9017\n",
            "Epoch 29/30\n",
            "1512/1512 - 237s - loss: 0.1117 - accuracy: 0.9562 - val_loss: 0.2940 - val_accuracy: 0.9057\n",
            "Epoch 30/30\n",
            "1512/1512 - 239s - loss: 0.1008 - accuracy: 0.9629 - val_loss: 0.3145 - val_accuracy: 0.9047\n"
          ],
          "name": "stdout"
        }
      ]
    },
    {
      "cell_type": "code",
      "metadata": {
        "colab": {
          "base_uri": "https://localhost:8080/",
          "height": 573
        },
        "id": "4qOkjTW7PAEv",
        "outputId": "1def8ea1-d2b6-4e91-8540-240187a7315c"
      },
      "source": [
        "#Accuracy Plot\n",
        "plt.plot(trainmodel.history['accuracy'], label='Train Accuracy')\n",
        "plt.plot(trainmodel.history['val_accuracy'], label='Val Accuracy')\n",
        "plt.title('Accuracy Plot')\n",
        "plt.ylabel('Accuracy Value')\n",
        "plt.xlabel('Epoch') \n",
        "plt.legend(loc=\"lower right\")\n",
        "plt.show()\n",
        "\n",
        "#Loss Plot\n",
        "plt.plot(trainmodel.history['loss'], label='Train Loss')\n",
        "plt.plot(trainmodel.history['val_loss'], label='Val Loss')\n",
        "plt.title('Loss Plot')\n",
        "plt.ylabel('Loss Value')\n",
        "plt.xlabel('Epoch')\n",
        "plt.legend(loc=\"upper right\")\n",
        "plt.show()"
      ],
      "execution_count": 27,
      "outputs": [
        {
          "output_type": "display_data",
          "data": {
            "image/png": "[encoded data removed]",
            "text/plain": [
              "<Figure size 432x288 with 1 Axes>"
            ]
          },
          "metadata": {
            "tags": [],
            "needs_background": "light"
          }
        },
        {
          "output_type": "display_data",
          "data": {
            "image/png": "[encoded data removed]",
            "text/plain": [
              "<Figure size 432x288 with 1 Axes>"
            ]
          },
          "metadata": {
            "tags": [],
            "needs_background": "light"
          }
        }
      ]
    }
  ]
}